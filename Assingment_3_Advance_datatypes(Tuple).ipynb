{
  "nbformat": 4,
  "nbformat_minor": 0,
  "metadata": {
    "colab": {
      "provenance": [],
      "gpuType": "T4",
      "authorship_tag": "ABX9TyM0iuHjmqIdQz9BETj8Zwd9",
      "include_colab_link": true
    },
    "kernelspec": {
      "name": "python3",
      "display_name": "Python 3"
    },
    "language_info": {
      "name": "python"
    },
    "accelerator": "GPU"
  },
  "cells": [
    {
      "cell_type": "markdown",
      "metadata": {
        "id": "view-in-github",
        "colab_type": "text"
      },
      "source": [
        "<a href=\"https://colab.research.google.com/github/kshatriyajaswanthsingh/Assignment-1-Basics-of-python/blob/main/Assingment_3_Advance_datatypes(Tuple).ipynb\" target=\"_parent\"><img src=\"https://colab.research.google.com/assets/colab-badge.svg\" alt=\"Open In Colab\"/></a>"
      ]
    },
    {
      "cell_type": "markdown",
      "source": [
        "# Tuple():\n",
        "\n",
        ". Tuple is simply a pair of value grouped together in a fixed order.\n",
        "\n",
        ".it is immutable(we cannot modify,change,update the variables)."
      ],
      "metadata": {
        "id": "NlItmL4iwJRu"
      }
    },
    {
      "cell_type": "code",
      "source": [
        "a =(1,2.5,\"apple\")\n",
        "print(type(a))"
      ],
      "metadata": {
        "colab": {
          "base_uri": "https://localhost:8080/"
        },
        "id": "nWbQY2vswxs2",
        "outputId": "cd25c8e5-8a85-4cfa-fb18-c1c61688ed84"
      },
      "execution_count": 1,
      "outputs": [
        {
          "output_type": "stream",
          "name": "stdout",
          "text": [
            "<class 'tuple'>\n"
          ]
        }
      ]
    },
    {
      "cell_type": "markdown",
      "source": [
        "# indexling():\n",
        "\n",
        ". Access using square brackets-use tuple[index] to get an element.\n",
        "\n",
        ".Positive indexing-Access elements from the begginning using 0,1,2,3,4,5,...\n",
        "\n",
        ".Negative indexling-Access elements from the end using -1,-2,-3,-4,-5,....."
      ],
      "metadata": {
        "id": "xZC-Xr4ExdPh"
      }
    },
    {
      "cell_type": "code",
      "source": [
        "a =(\"tuple is immutable\")\n",
        "a[1]"
      ],
      "metadata": {
        "colab": {
          "base_uri": "https://localhost:8080/",
          "height": 36
        },
        "id": "-t7Vfvk8zrgw",
        "outputId": "208613ba-dfac-4630-f55d-476df34eb71d"
      },
      "execution_count": 1,
      "outputs": [
        {
          "output_type": "execute_result",
          "data": {
            "text/plain": [
              "'u'"
            ],
            "application/vnd.google.colaboratory.intrinsic+json": {
              "type": "string"
            }
          },
          "metadata": {},
          "execution_count": 1
        }
      ]
    },
    {
      "cell_type": "code",
      "source": [
        "a =(\"tuple is immutable\")\n",
        "a[-6]"
      ],
      "metadata": {
        "colab": {
          "base_uri": "https://localhost:8080/",
          "height": 36
        },
        "id": "qtlMqVq6z91r",
        "outputId": "7f900bbd-e87c-4787-d314-f4a47ee7fc5c"
      },
      "execution_count": 2,
      "outputs": [
        {
          "output_type": "execute_result",
          "data": {
            "text/plain": [
              "'u'"
            ],
            "application/vnd.google.colaboratory.intrinsic+json": {
              "type": "string"
            }
          },
          "metadata": {},
          "execution_count": 2
        }
      ]
    },
    {
      "cell_type": "markdown",
      "source": [
        "#Slicing():\n",
        "\n",
        ". Use[start:end] to extract a portion of a tuple.\n",
        "\n",
        ". Slicing creates a new tuple without changing the original."
      ],
      "metadata": {
        "id": "PvWvf4pB0m6U"
      }
    },
    {
      "cell_type": "code",
      "source": [
        "a =(\"tuple is immutable\")\n",
        "a[0:5]"
      ],
      "metadata": {
        "colab": {
          "base_uri": "https://localhost:8080/",
          "height": 36
        },
        "id": "VMfSWJEs2L-m",
        "outputId": "0e718e79-c3a6-40b0-8f64-d43b195229c2"
      },
      "execution_count": 3,
      "outputs": [
        {
          "output_type": "execute_result",
          "data": {
            "text/plain": [
              "'tuple'"
            ],
            "application/vnd.google.colaboratory.intrinsic+json": {
              "type": "string"
            }
          },
          "metadata": {},
          "execution_count": 3
        }
      ]
    },
    {
      "cell_type": "code",
      "source": [
        "a =(\"tuple is immutable\")\n",
        "a[-7:-1]"
      ],
      "metadata": {
        "colab": {
          "base_uri": "https://localhost:8080/",
          "height": 36
        },
        "id": "CVKtO7He2YAe",
        "outputId": "eaa6b64d-2c38-4e5e-e555-93feb522a439"
      },
      "execution_count": 4,
      "outputs": [
        {
          "output_type": "execute_result",
          "data": {
            "text/plain": [
              "'mutabl'"
            ],
            "application/vnd.google.colaboratory.intrinsic+json": {
              "type": "string"
            }
          },
          "metadata": {},
          "execution_count": 4
        }
      ]
    },
    {
      "cell_type": "markdown",
      "source": [
        "#type() function:\n",
        "\n",
        ". The type()function returns the data type of a given object."
      ],
      "metadata": {
        "id": "zpF_mOe32nhE"
      }
    },
    {
      "cell_type": "code",
      "source": [
        "a =(1,2,3,4,5,6,7,8,9,10)\n",
        "print(type(a))"
      ],
      "metadata": {
        "colab": {
          "base_uri": "https://localhost:8080/"
        },
        "id": "8_7ez33T3B5F",
        "outputId": "eb133e1c-30a6-4561-cfcd-2c062ae5cd9a"
      },
      "execution_count": 5,
      "outputs": [
        {
          "output_type": "stream",
          "name": "stdout",
          "text": [
            "<class 'tuple'>\n"
          ]
        }
      ]
    },
    {
      "cell_type": "code",
      "source": [
        "a =(1,2.3,\"name\",True)\n",
        "print(type(a))"
      ],
      "metadata": {
        "colab": {
          "base_uri": "https://localhost:8080/"
        },
        "id": "AvSXm5Ae3ULr",
        "outputId": "7dd951db-d19f-4201-d5c9-bc1107f77bb8"
      },
      "execution_count": 7,
      "outputs": [
        {
          "output_type": "stream",
          "name": "stdout",
          "text": [
            "<class 'tuple'>\n"
          ]
        }
      ]
    },
    {
      "cell_type": "markdown",
      "source": [
        "# Tuple methods:\n",
        "### 1. len():\n",
        "\n",
        ". The len() function returns the number of elements in a tuple.\n",
        "\n",
        ".it helps in finding the size of a tuple quickly."
      ],
      "metadata": {
        "id": "ZMYIxGD33x2w"
      }
    },
    {
      "cell_type": "code",
      "source": [
        "a =(\"tuple is immutable\")\n",
        "len(a)"
      ],
      "metadata": {
        "colab": {
          "base_uri": "https://localhost:8080/"
        },
        "id": "68oQZu624j9W",
        "outputId": "c96ce153-f828-43c7-f4ab-cc966d23cc18"
      },
      "execution_count": 8,
      "outputs": [
        {
          "output_type": "execute_result",
          "data": {
            "text/plain": [
              "18"
            ]
          },
          "metadata": {},
          "execution_count": 8
        }
      ]
    },
    {
      "cell_type": "code",
      "source": [
        "a =(\"a\",\"b\",\"c\",1,2)\n",
        "len(a)"
      ],
      "metadata": {
        "colab": {
          "base_uri": "https://localhost:8080/"
        },
        "id": "8EGg9ucq4r41",
        "outputId": "d5a4802d-386e-4dd3-d2a9-e8303ed25052"
      },
      "execution_count": 10,
      "outputs": [
        {
          "output_type": "execute_result",
          "data": {
            "text/plain": [
              "5"
            ]
          },
          "metadata": {},
          "execution_count": 10
        }
      ]
    },
    {
      "cell_type": "markdown",
      "source": [
        " ### 2. count():\n",
        "\n",
        " . The count()function returns the number of times a specific element appears in a tuple."
      ],
      "metadata": {
        "id": "ocRDPgas5WPA"
      }
    },
    {
      "cell_type": "code",
      "source": [
        "a =(\"tuple is immutable\")\n",
        "a.count(\"i\")"
      ],
      "metadata": {
        "colab": {
          "base_uri": "https://localhost:8080/"
        },
        "id": "l1iXlgOf6Ff8",
        "outputId": "55fc66d3-3a84-4550-8e12-4194fa978349"
      },
      "execution_count": 11,
      "outputs": [
        {
          "output_type": "execute_result",
          "data": {
            "text/plain": [
              "2"
            ]
          },
          "metadata": {},
          "execution_count": 11
        }
      ]
    },
    {
      "cell_type": "code",
      "source": [
        "a = (\"tuple is immutable\")\n",
        "print(a.count(\"m\"))"
      ],
      "metadata": {
        "colab": {
          "base_uri": "https://localhost:8080/"
        },
        "id": "tOZnmOhe6QRS",
        "outputId": "69cd2104-00db-4f9b-a191-bd406752eb3a"
      },
      "execution_count": 13,
      "outputs": [
        {
          "output_type": "stream",
          "name": "stdout",
          "text": [
            "2\n"
          ]
        }
      ]
    },
    {
      "cell_type": "markdown",
      "source": [
        "### 3. Index():\n",
        "\n",
        ". Searches the tuple for a specified value and returns the position of where it was found."
      ],
      "metadata": {
        "id": "nFhMkiZn65GP"
      }
    },
    {
      "cell_type": "code",
      "source": [
        "a =(\"tuple is immutable\")\n",
        "print(a.index(\"m\"))"
      ],
      "metadata": {
        "colab": {
          "base_uri": "https://localhost:8080/"
        },
        "id": "kWbqCOC77eCr",
        "outputId": "c73e1604-e651-4c78-9141-aa63dd7fa671"
      },
      "execution_count": 14,
      "outputs": [
        {
          "output_type": "stream",
          "name": "stdout",
          "text": [
            "10\n"
          ]
        }
      ]
    },
    {
      "cell_type": "code",
      "source": [
        "a =(\"tuple is immutable\")\n",
        "print(a.index(\"a\"))"
      ],
      "metadata": {
        "colab": {
          "base_uri": "https://localhost:8080/"
        },
        "id": "W5dpS8wH7pQv",
        "outputId": "c6f87ec4-0e87-4b8a-d4c3-5827a882c8fb"
      },
      "execution_count": 15,
      "outputs": [
        {
          "output_type": "stream",
          "name": "stdout",
          "text": [
            "14\n"
          ]
        }
      ]
    }
  ]
}