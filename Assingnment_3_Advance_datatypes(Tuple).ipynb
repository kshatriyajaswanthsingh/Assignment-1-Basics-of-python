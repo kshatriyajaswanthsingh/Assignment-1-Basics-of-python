{
  "nbformat": 4,
  "nbformat_minor": 0,
  "metadata": {
    "colab": {
      "provenance": [],
      "gpuType": "T4",
      "authorship_tag": "ABX9TyPfUaY8kQjF7jLF1bMgKfCB",
      "include_colab_link": true
    },
    "kernelspec": {
      "name": "python3",
      "display_name": "Python 3"
    },
    "language_info": {
      "name": "python"
    },
    "accelerator": "GPU"
  },
  "cells": [
    {
      "cell_type": "markdown",
      "metadata": {
        "id": "view-in-github",
        "colab_type": "text"
      },
      "source": [
        "<a href=\"https://colab.research.google.com/github/kshatriyajaswanthsingh/Assignment-1-Basics-of-python/blob/main/Assingnment_3_Advance_datatypes(Tuple).ipynb\" target=\"_parent\"><img src=\"https://colab.research.google.com/assets/colab-badge.svg\" alt=\"Open In Colab\"/></a>"
      ]
    },
    {
      "cell_type": "markdown",
      "source": [
        "#Tuple():\n",
        "\n",
        ". Tuple is simply a pair of values grouped together in the fixed order.\n",
        ".it is immutable(we cannot modify,change,update the variable)."
      ],
      "metadata": {
        "id": "cpXkmca0IOly"
      }
    },
    {
      "cell_type": "code",
      "source": [
        "a = (1,2.5,\"apple\")\n",
        "print(type(a))"
      ],
      "metadata": {
        "colab": {
          "base_uri": "https://localhost:8080/"
        },
        "id": "Uz5XI51eJbF4",
        "outputId": "41a92540-6909-407d-a39c-0af965c0914d"
      },
      "execution_count": 1,
      "outputs": [
        {
          "output_type": "stream",
          "name": "stdout",
          "text": [
            "<class 'tuple'>\n"
          ]
        }
      ]
    },
    {
      "cell_type": "markdown",
      "source": [
        "#indexing():\n",
        "\n",
        ".Access using square brackets-use tuple[index] to get an element.\n",
        "\n",
        ".Positive indexing-Access elements from the beginning using 0,1,2,3,.....\n",
        "\n",
        ".Negative indexing-Access elements from the ending using -1,-2,-3,......."
      ],
      "metadata": {
        "id": "5_SP9mv5J1XQ"
      }
    },
    {
      "cell_type": "code",
      "source": [
        "a = (\"tuple is immutable\")\n",
        "a[1]"
      ],
      "metadata": {
        "colab": {
          "base_uri": "https://localhost:8080/",
          "height": 36
        },
        "id": "cFi6UGDeLGh8",
        "outputId": "13703ab5-3034-4bf0-a978-822f04f93ac9"
      },
      "execution_count": 1,
      "outputs": [
        {
          "output_type": "execute_result",
          "data": {
            "text/plain": [
              "'u'"
            ],
            "application/vnd.google.colaboratory.intrinsic+json": {
              "type": "string"
            }
          },
          "metadata": {},
          "execution_count": 1
        }
      ]
    },
    {
      "cell_type": "code",
      "source": [
        "a = (\"tuple is immutable\")\n",
        "a[-5]"
      ],
      "metadata": {
        "colab": {
          "base_uri": "https://localhost:8080/",
          "height": 36
        },
        "id": "wiMziNWPLTCw",
        "outputId": "03419d91-94b5-47a0-e2d5-ead65476eb87"
      },
      "execution_count": 7,
      "outputs": [
        {
          "output_type": "execute_result",
          "data": {
            "text/plain": [
              "'t'"
            ],
            "application/vnd.google.colaboratory.intrinsic+json": {
              "type": "string"
            }
          },
          "metadata": {},
          "execution_count": 7
        }
      ]
    },
    {
      "cell_type": "markdown",
      "source": [
        "#Slicing():\n",
        "\n",
        ". Use [start:end] to extract a portion of a tuple.\n",
        "\n",
        ".slicing creates a new tuple without changing the original."
      ],
      "metadata": {
        "id": "w8rBUPGpMFQp"
      }
    },
    {
      "cell_type": "code",
      "source": [
        "a = (\"tuple is immutable\")\n",
        "a[0:6]"
      ],
      "metadata": {
        "colab": {
          "base_uri": "https://localhost:8080/",
          "height": 36
        },
        "id": "dd4doDdvMy14",
        "outputId": "315bea36-649d-4dd2-fd63-d39f77248e1c"
      },
      "execution_count": 8,
      "outputs": [
        {
          "output_type": "execute_result",
          "data": {
            "text/plain": [
              "'tuple '"
            ],
            "application/vnd.google.colaboratory.intrinsic+json": {
              "type": "string"
            }
          },
          "metadata": {},
          "execution_count": 8
        }
      ]
    },
    {
      "cell_type": "code",
      "source": [
        "a = (\"tuple is immutable\")\n",
        "a[-5:-4]"
      ],
      "metadata": {
        "colab": {
          "base_uri": "https://localhost:8080/",
          "height": 36
        },
        "id": "aOBQ__1sNKjj",
        "outputId": "a710bcaf-bfa4-41c7-810e-cf645b2e4796"
      },
      "execution_count": 10,
      "outputs": [
        {
          "output_type": "execute_result",
          "data": {
            "text/plain": [
              "'t'"
            ],
            "application/vnd.google.colaboratory.intrinsic+json": {
              "type": "string"
            }
          },
          "metadata": {},
          "execution_count": 10
        }
      ]
    },
    {
      "cell_type": "markdown",
      "source": [
        "##type()function:\n",
        "\n",
        ". The type() function returns the data type of a given object."
      ],
      "metadata": {
        "id": "BO75MW1ENk_f"
      }
    },
    {
      "cell_type": "code",
      "source": [
        "a = (1,2,3,4,5,6,7,8,9,10)\n",
        "print(type(a))"
      ],
      "metadata": {
        "colab": {
          "base_uri": "https://localhost:8080/"
        },
        "id": "5LFgNYGkOGrI",
        "outputId": "88d38671-9007-4bda-c1d9-fde854e89f64"
      },
      "execution_count": 11,
      "outputs": [
        {
          "output_type": "stream",
          "name": "stdout",
          "text": [
            "<class 'tuple'>\n"
          ]
        }
      ]
    },
    {
      "cell_type": "markdown",
      "source": [
        "# Tuple methods:\n",
        "\n",
        "### len():\n",
        "\n",
        ". The len() function returns the number of elements in a tuple.\n",
        "\n",
        ", it helps in finding the size of a tuple quickly."
      ],
      "metadata": {
        "id": "lRG-XNNhOeKW"
      }
    },
    {
      "cell_type": "markdown",
      "source": [],
      "metadata": {
        "id": "12T4t83GP98-"
      }
    },
    {
      "cell_type": "code",
      "source": [
        "a = (\"tuple is immutable\")\n",
        "len(a)"
      ],
      "metadata": {
        "colab": {
          "base_uri": "https://localhost:8080/"
        },
        "id": "8M5m29ySPEbL",
        "outputId": "e9bc69c9-cdd2-47ea-bec9-17b1af8df9af"
      },
      "execution_count": 12,
      "outputs": [
        {
          "output_type": "execute_result",
          "data": {
            "text/plain": [
              "18"
            ]
          },
          "metadata": {},
          "execution_count": 12
        }
      ]
    },
    {
      "cell_type": "code",
      "source": [
        "a =(\"a\",\"b\",\"c\",1,2,3,4,5,\"d\")\n",
        "len(a)\n"
      ],
      "metadata": {
        "colab": {
          "base_uri": "https://localhost:8080/"
        },
        "id": "v8_h4ip7PPCg",
        "outputId": "fb9bc4c7-d4d9-49e3-edb9-5606ea7ecac1"
      },
      "execution_count": 13,
      "outputs": [
        {
          "output_type": "execute_result",
          "data": {
            "text/plain": [
              "9"
            ]
          },
          "metadata": {},
          "execution_count": 13
        }
      ]
    },
    {
      "cell_type": "markdown",
      "source": [
        "###2. count():\n",
        "\n",
        ". The count() function returns the number of times a specific element appears in a tuple"
      ],
      "metadata": {
        "id": "fg9KKiM4P4eL"
      }
    },
    {
      "cell_type": "code",
      "source": [
        "a = (\"tuple is immutable\")\n",
        "a.count(\"i\")"
      ],
      "metadata": {
        "colab": {
          "base_uri": "https://localhost:8080/"
        },
        "id": "nOJWOZrEQb0X",
        "outputId": "164b052c-e546-42d6-80cc-5f86210e6ab2"
      },
      "execution_count": 14,
      "outputs": [
        {
          "output_type": "execute_result",
          "data": {
            "text/plain": [
              "2"
            ]
          },
          "metadata": {},
          "execution_count": 14
        }
      ]
    },
    {
      "cell_type": "code",
      "source": [
        "a = (\"tuple is immutable\")\n",
        "print(a.count(\"m\"))"
      ],
      "metadata": {
        "colab": {
          "base_uri": "https://localhost:8080/"
        },
        "id": "l1y9q0sHQjzX",
        "outputId": "2f1a1469-394c-4784-8010-419fdc756edb"
      },
      "execution_count": 15,
      "outputs": [
        {
          "output_type": "stream",
          "name": "stdout",
          "text": [
            "2\n"
          ]
        }
      ]
    },
    {
      "cell_type": "markdown",
      "source": [
        "###3.index():\n",
        "\n",
        ".Searches the tuple for a specified value and returns the position of where it was found"
      ],
      "metadata": {
        "id": "wAvbZvp6RR8N"
      }
    },
    {
      "cell_type": "code",
      "source": [
        "a = (\"tuple is immutable\")\n",
        "print(a.index(\"m\"))"
      ],
      "metadata": {
        "colab": {
          "base_uri": "https://localhost:8080/"
        },
        "id": "1Y7x3WQkRn-c",
        "outputId": "a7033c22-bf80-4f84-f821-04f26b1f1a09"
      },
      "execution_count": 16,
      "outputs": [
        {
          "output_type": "stream",
          "name": "stdout",
          "text": [
            "10\n"
          ]
        }
      ]
    },
    {
      "cell_type": "code",
      "source": [
        "a = (\"tuple is immutable\")\n",
        "print(a.index(\"a\"))"
      ],
      "metadata": {
        "colab": {
          "base_uri": "https://localhost:8080/"
        },
        "id": "E4bV8MBqR5_7",
        "outputId": "fc4ac164-cecb-45ed-edb7-7a463380d42c"
      },
      "execution_count": 17,
      "outputs": [
        {
          "output_type": "stream",
          "name": "stdout",
          "text": [
            "14\n"
          ]
        }
      ]
    },
    {
      "cell_type": "code",
      "source": [],
      "metadata": {
        "id": "70rjJ_YQSHTK"
      },
      "execution_count": null,
      "outputs": []
    }
  ]
}