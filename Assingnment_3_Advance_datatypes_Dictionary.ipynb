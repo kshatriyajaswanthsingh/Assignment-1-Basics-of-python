{
  "nbformat": 4,
  "nbformat_minor": 0,
  "metadata": {
    "colab": {
      "provenance": [],
      "collapsed_sections": [
        "UL0ZDR39nHEQ"
      ],
      "gpuType": "T4",
      "authorship_tag": "ABX9TyM4SOYCK1LltyBvMJwR1wrO",
      "include_colab_link": true
    },
    "kernelspec": {
      "name": "python3",
      "display_name": "Python 3"
    },
    "language_info": {
      "name": "python"
    },
    "accelerator": "GPU"
  },
  "cells": [
    {
      "cell_type": "markdown",
      "metadata": {
        "id": "view-in-github",
        "colab_type": "text"
      },
      "source": [
        "<a href=\"https://colab.research.google.com/github/kshatriyajaswanthsingh/Assignment-1-Basics-of-python/blob/main/Assingnment_3_Advance_datatypes_Dictionary.ipynb\" target=\"_parent\"><img src=\"https://colab.research.google.com/assets/colab-badge.svg\" alt=\"Open In Colab\"/></a>"
      ]
    },
    {
      "cell_type": "markdown",
      "source": [
        "# Dictionary():\n",
        "\n",
        ". A Python dictionary stores data in key-values pairs,where each key is unique,and it maps to a corresponding value.\n",
        "\n",
        ". Dictionaries are mutable (we can add, update,or remove key-value pairs after creation).\n",
        "\n",
        ". Dictionaries are defined using curly braces{} with keys and values separated by colons.\n",
        "\n",
        ". A Dictionary cannot have duplicate keys; if a duplicate key is assigned a new value, the old value gets overwritten.\n",
        "\n",
        ". Dictionaries can contain other dictionaries,allowing the creation of complex data structures."
      ],
      "metadata": {
        "id": "UL0ZDR39nHEQ"
      }
    },
    {
      "cell_type": "code",
      "source": [
        "person = {\"Name\":\"Jashu\",\"Age\":23,\"city\":\"Hyderbad\",\"Dob\":25}\n",
        "print(type(person))\n",
        "print(person)"
      ],
      "metadata": {
        "colab": {
          "base_uri": "https://localhost:8080/"
        },
        "id": "VtB3WnE-rLRG",
        "outputId": "8bd8b7aa-ac27-4b72-d0e5-d65e589060bf"
      },
      "execution_count": 1,
      "outputs": [
        {
          "output_type": "stream",
          "name": "stdout",
          "text": [
            "<class 'dict'>\n",
            "{'Name': 'Jashu', 'Age': 23, 'city': 'Hyderbad', 'Dob': 25}\n"
          ]
        }
      ]
    },
    {
      "cell_type": "markdown",
      "source": [
        "# Dictionary Methods:\n",
        "\n",
        "### 1.pop():\n",
        "\n",
        ".Removes the item with the specified key name."
      ],
      "metadata": {
        "id": "o6ix-8rjwyfs"
      }
    },
    {
      "cell_type": "code",
      "source": [
        "person = {\"Name\":\"Jaswanth Singh\",\"Age\":23,\"City\":\"Hyderbad\",\"DOB\":25}\n",
        "person.pop(\"DOB\")"
      ],
      "metadata": {
        "colab": {
          "base_uri": "https://localhost:8080/"
        },
        "id": "uQ76aUsIx8GH",
        "outputId": "2af2132d-b48b-499f-8fd9-725d8038c136"
      },
      "execution_count": 1,
      "outputs": [
        {
          "output_type": "execute_result",
          "data": {
            "text/plain": [
              "25"
            ]
          },
          "metadata": {},
          "execution_count": 1
        }
      ]
    },
    {
      "cell_type": "code",
      "source": [
        "person = {\"Name\":\"Jaswanth Singh\",\"Age\":23,\"City\":\"Hyderbad\",\"DOB\":25}\n",
        "person.popitem()"
      ],
      "metadata": {
        "colab": {
          "base_uri": "https://localhost:8080/"
        },
        "id": "KlsBtw_JzLaE",
        "outputId": "b1732be8-b0a5-4c92-acbc-5513502862a9"
      },
      "execution_count": 2,
      "outputs": [
        {
          "output_type": "execute_result",
          "data": {
            "text/plain": [
              "('DOB', 25)"
            ]
          },
          "metadata": {},
          "execution_count": 2
        }
      ]
    },
    {
      "cell_type": "markdown",
      "source": [
        "### 2.update()\n",
        "\n",
        ". updates the dictionary with key-value pairs from another dictionary."
      ],
      "metadata": {
        "id": "a1BXPRCr0b9Q"
      }
    },
    {
      "cell_type": "code",
      "source": [
        "person = {\"Name\":\"Jaswanth Singh\",\"Age\":23,\"City\":\"Hyderbad\",\"Dob\":25}"
      ],
      "metadata": {
        "id": "ct-swRZJ1vkR"
      },
      "execution_count": 5,
      "outputs": []
    },
    {
      "cell_type": "code",
      "source": [
        "person.update({\"Age\":24})\n",
        "print(person)"
      ],
      "metadata": {
        "colab": {
          "base_uri": "https://localhost:8080/"
        },
        "id": "0J2h7Nws2etX",
        "outputId": "bd335977-0b92-41c2-f856-13c23af323b0"
      },
      "execution_count": 6,
      "outputs": [
        {
          "output_type": "stream",
          "name": "stdout",
          "text": [
            "{'Name': 'Jaswanth Singh', 'Age': 24, 'City': 'Hyderbad', 'Dob': 25}\n"
          ]
        }
      ]
    },
    {
      "cell_type": "code",
      "source": [
        "person.update({\"Email\":\"kshatriyajaswanthsingh@gmail.com\"})\n",
        "print(person)"
      ],
      "metadata": {
        "colab": {
          "base_uri": "https://localhost:8080/"
        },
        "id": "Dqskj67J20fe",
        "outputId": "9c14913e-99b8-4eda-9df3-c26589bc2fab"
      },
      "execution_count": 7,
      "outputs": [
        {
          "output_type": "stream",
          "name": "stdout",
          "text": [
            "{'Name': 'Jaswanth Singh', 'Age': 24, 'City': 'Hyderbad', 'Dob': 25, 'Email': 'kshatriyajaswanthsingh@gmail.com'}\n"
          ]
        }
      ]
    },
    {
      "cell_type": "code",
      "source": [],
      "metadata": {
        "id": "ynd87h5c30fQ"
      },
      "execution_count": null,
      "outputs": []
    },
    {
      "cell_type": "markdown",
      "source": [
        "### 3.dict.keys()\n",
        "\n",
        ".Returns a view object of all the keys in the dictionary."
      ],
      "metadata": {
        "id": "qF2eKDiP35oR"
      }
    },
    {
      "cell_type": "code",
      "source": [
        "person = {\"Name\":\"JASWAnth SINGH\",\"Age\":23,\"City\":\"Hyderbad\",\"Dob\":25,\"Email\":\"kshatriyajaswanthsinghgmail.com\"}\n",
        "person.keys()"
      ],
      "metadata": {
        "colab": {
          "base_uri": "https://localhost:8080/"
        },
        "id": "igsY9klq4y6U",
        "outputId": "31e58add-b392-4db5-d9b5-1c7bef0c8dac"
      },
      "execution_count": 9,
      "outputs": [
        {
          "output_type": "execute_result",
          "data": {
            "text/plain": [
              "dict_keys(['Name', 'Age', 'City', 'Dob', 'Email'])"
            ]
          },
          "metadata": {},
          "execution_count": 9
        }
      ]
    },
    {
      "cell_type": "code",
      "source": [
        "a = {1:\"a\",2:\"b\",3:\"c\"}\n",
        "a.keys()"
      ],
      "metadata": {
        "colab": {
          "base_uri": "https://localhost:8080/"
        },
        "id": "cEpXjxa36iGO",
        "outputId": "59bc047d-d804-4e6e-a2e9-b9bca06fd06c"
      },
      "execution_count": 11,
      "outputs": [
        {
          "output_type": "execute_result",
          "data": {
            "text/plain": [
              "dict_keys([1, 2, 3])"
            ]
          },
          "metadata": {},
          "execution_count": 11
        }
      ]
    },
    {
      "cell_type": "markdown",
      "source": [
        "###4.dict.values():\n",
        ".Returns a view object of all values in the dictionary."
      ],
      "metadata": {
        "id": "zz9TrOJr7tAB"
      }
    },
    {
      "cell_type": "code",
      "source": [
        "person = {\"Name\":\"Jaswanthsingh\",\"Age\":23,\"City\":\"Hyderbad\",\"Dob\":25,\"Email\":\"kshatriyajaswanthsingh@gmail.com\"}\n",
        "person.values()"
      ],
      "metadata": {
        "colab": {
          "base_uri": "https://localhost:8080/"
        },
        "id": "d4hdTKW2-CGo",
        "outputId": "b7f34a1d-2be6-4bd0-f6cb-e9003a490b1a"
      },
      "execution_count": 1,
      "outputs": [
        {
          "output_type": "execute_result",
          "data": {
            "text/plain": [
              "dict_values(['Jaswanthsingh', 23, 'Hyderbad', 25, 'kshatriyajaswanthsingh@gmail.com'])"
            ]
          },
          "metadata": {},
          "execution_count": 1
        }
      ]
    },
    {
      "cell_type": "code",
      "source": [
        "a ={1:\"a\",2:\"b\",3:\"c\"}\n",
        "a.values()"
      ],
      "metadata": {
        "colab": {
          "base_uri": "https://localhost:8080/"
        },
        "id": "Yyzpdvmj-D42",
        "outputId": "a355873b-34e5-48d8-cc88-bedc975dbbdf"
      },
      "execution_count": 19,
      "outputs": [
        {
          "output_type": "execute_result",
          "data": {
            "text/plain": [
              "dict_values(['a', 'b', 'c'])"
            ]
          },
          "metadata": {},
          "execution_count": 19
        }
      ]
    },
    {
      "cell_type": "markdown",
      "source": [
        "###5.dict.items():\n",
        "\n",
        ".Returns a view object containing key-value pairs as tuples."
      ],
      "metadata": {
        "id": "vNcAsZuG-zdk"
      }
    },
    {
      "cell_type": "code",
      "source": [
        "person = {\"Name\":\"jaswanthsingh\",\"Age\":23,\"City\":\"Hyderbad\",\"Dob\":25,\"Email\":\"kshatriyajaswanthsingh@gmail.com\"}\n",
        "print(person.items())"
      ],
      "metadata": {
        "colab": {
          "base_uri": "https://localhost:8080/"
        },
        "id": "U1DjWjfs_MfG",
        "outputId": "b795dcb9-4b2b-4ccb-f1dd-3e6c965052ad"
      },
      "execution_count": 3,
      "outputs": [
        {
          "output_type": "stream",
          "name": "stdout",
          "text": [
            "dict_items([('Name', 'jaswanthsingh'), ('Age', 23), ('City', 'Hyderbad'), ('Dob', 25), ('Email', 'kshatriyajaswanthsingh@gmail.com')])\n"
          ]
        }
      ]
    },
    {
      "cell_type": "code",
      "source": [
        "a = {1:\"a\",2:\"b\",3:\"c\",4:\"d\",5:\"e\"}\n",
        "print(a.items())"
      ],
      "metadata": {
        "colab": {
          "base_uri": "https://localhost:8080/"
        },
        "id": "H2qvo0Hj_RQK",
        "outputId": "b5628ca9-a645-423a-8a84-ca3fcca73816"
      },
      "execution_count": 4,
      "outputs": [
        {
          "output_type": "stream",
          "name": "stdout",
          "text": [
            "dict_items([(1, 'a'), (2, 'b'), (3, 'c'), (4, 'd'), (5, 'e')])\n"
          ]
        }
      ]
    },
    {
      "cell_type": "markdown",
      "source": [
        "###6.dict.copy():\n",
        "\n",
        ".Returns a shallow copy of the dictionary."
      ],
      "metadata": {
        "id": "OHhWyJpVBPBw"
      }
    },
    {
      "cell_type": "code",
      "source": [
        "person2 = person.copy()\n",
        "print(person)\n",
        "print(person2)"
      ],
      "metadata": {
        "colab": {
          "base_uri": "https://localhost:8080/"
        },
        "id": "XTIbRdb8BmzR",
        "outputId": "daa01bd5-ce2a-4427-fe08-abb4999e4d40"
      },
      "execution_count": 7,
      "outputs": [
        {
          "output_type": "stream",
          "name": "stdout",
          "text": [
            "{'Name': 'jaswanthsingh', 'Age': 23, 'City': 'Hyderbad', 'Dob': 25, 'Email': 'kshatriyajaswanthsingh@gmail.com'}\n",
            "{'Name': 'jaswanthsingh', 'Age': 23, 'City': 'Hyderbad', 'Dob': 25, 'Email': 'kshatriyajaswanthsingh@gmail.com'}\n"
          ]
        }
      ]
    },
    {
      "cell_type": "code",
      "source": [
        "b = a.copy()\n",
        "print(a)\n",
        "print(b)"
      ],
      "metadata": {
        "colab": {
          "base_uri": "https://localhost:8080/"
        },
        "id": "-DbZ71J6Brcl",
        "outputId": "0d10c8ae-bb71-4c74-9f3b-60dfb796c0e9"
      },
      "execution_count": 8,
      "outputs": [
        {
          "output_type": "stream",
          "name": "stdout",
          "text": [
            "{1: 'a', 2: 'b', 3: 'c', 4: 'd', 5: 'e'}\n",
            "{1: 'a', 2: 'b', 3: 'c', 4: 'd', 5: 'e'}\n"
          ]
        }
      ]
    },
    {
      "cell_type": "code",
      "source": [],
      "metadata": {
        "id": "Cb70EYt7C1ez"
      },
      "execution_count": null,
      "outputs": []
    },
    {
      "cell_type": "markdown",
      "source": [
        "###7.dict.clear():\n",
        "\n",
        ".Removes all items from the dictionary."
      ],
      "metadata": {
        "id": "-smbXkc2C46Q"
      }
    },
    {
      "cell_type": "code",
      "source": [
        "person.clear()\n",
        "print(person)\n",
        "print(person2)"
      ],
      "metadata": {
        "colab": {
          "base_uri": "https://localhost:8080/"
        },
        "id": "oD5-BbtbDMRQ",
        "outputId": "be837744-52a8-4aea-b38a-daec6c1e5033"
      },
      "execution_count": 9,
      "outputs": [
        {
          "output_type": "stream",
          "name": "stdout",
          "text": [
            "{}\n",
            "{'Name': 'jaswanthsingh', 'Age': 23, 'City': 'Hyderbad', 'Dob': 25, 'Email': 'kshatriyajaswanthsingh@gmail.com'}\n"
          ]
        }
      ]
    },
    {
      "cell_type": "code",
      "source": [
        "a.clear()\n",
        "print(a)\n",
        "print(b)"
      ],
      "metadata": {
        "colab": {
          "base_uri": "https://localhost:8080/"
        },
        "id": "1K3Le3kEDdq1",
        "outputId": "1b29ee01-696e-4150-c844-bed3da653553"
      },
      "execution_count": 10,
      "outputs": [
        {
          "output_type": "stream",
          "name": "stdout",
          "text": [
            "{}\n",
            "{1: 'a', 2: 'b', 3: 'c', 4: 'd', 5: 'e'}\n"
          ]
        }
      ]
    },
    {
      "cell_type": "code",
      "source": [],
      "metadata": {
        "id": "kQjZtD6HDsjw"
      },
      "execution_count": null,
      "outputs": []
    }
  ]
}